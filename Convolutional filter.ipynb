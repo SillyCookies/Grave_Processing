{
 "cells": [
  {
   "cell_type": "code",
   "execution_count": 14,
   "id": "83755cca",
   "metadata": {},
   "outputs": [],
   "source": [
    "import sys\n",
    "import numpy as np\n",
    "import scipy\n",
    "import pandas as pd\n",
    "import matplotlib.pyplot as plt\n"
   ]
  },
  {
   "cell_type": "code",
   "execution_count": 34,
   "id": "262f3d81-51ba-4c30-a72f-2575dbe84567",
   "metadata": {},
   "outputs": [],
   "source": [
    "\n",
    "base_dir = \"E:/Hobbies/programming/\"\n",
    "flight = '230706GO15D'\n",
    "decimation = '_0.1'\n",
    "file = base_dir + flight + '_C_decimated' + decimation + '.csv'"
   ]
  },
  {
   "cell_type": "code",
   "execution_count": 38,
   "id": "385fc6ae-d3e2-4f9d-a2aa-15967be5b8de",
   "metadata": {},
   "outputs": [],
   "source": [
    "\n",
    "base_dir = \"F:/Hobbies/programming/\"\n",
    "flight = 'DRE2_Kosovo_joined1'\n",
    "decimation = '_0.4'\n",
    "file = base_dir + flight + '_C_decimated' + decimation + '.csv'"
   ]
  },
  {
   "cell_type": "code",
   "execution_count": 40,
   "id": "2a3e79ff",
   "metadata": {},
   "outputs": [
    {
     "name": "stdout",
     "output_type": "stream",
     "text": [
      "[[nan nan nan ... nan nan nan]\n",
      " [nan nan nan ... nan nan nan]\n",
      " [nan nan nan ... nan nan nan]\n",
      " ...\n",
      " [nan nan nan ... nan nan nan]\n",
      " [nan nan nan ... nan nan nan]\n",
      " [nan nan nan ... nan nan nan]]\n",
      "(797, 492) (12, 12)\n",
      "(808, 503)\n",
      "(797, 492)\n"
     ]
    },
    {
     "data": {
      "text/plain": [
       "<Figure size 640x480 with 0 Axes>"
      ]
     },
     "metadata": {},
     "output_type": "display_data"
    }
   ],
   "source": [
    "grid  = pd.read_csv(file).pivot_table(index='grid_y', columns='grid_x', values='z')\n",
    "#grid = grid.fillna(0)\n",
    "image = grid.values\n",
    "\n",
    "print(image)\n",
    "\n",
    "#plt.imshow(image)\n",
    "#plt.savefig('convolution/' + flight + decimation + 'image.png')\n",
    "#plt.clf()\n",
    "\n",
    "grid_sz = 2# cm\n",
    "spot_radius = 6 # cm\n",
    "spot_grid_radius = spot_radius // grid_sz\n",
    "filter = -np.ones((spot_grid_radius*4, spot_grid_radius*4))\n",
    "\n",
    "center = (np.array(filter.shape) / 2) - 0.5\n",
    "posns = np.transpose(np.nonzero(filter))\n",
    "\n",
    "in_circle = posns[np.linalg.norm(posns - center, axis=-1) < spot_grid_radius]\n",
    "in_circle = tuple(in_circle.transpose())\n",
    "\n",
    "filter[in_circle] = 1\n",
    "filter -= filter.mean()\n",
    "\n",
    "\n",
    "#plt.imshow(filter)\n",
    "#plt.savefig('convolution/' + flight + decimation + 'filter.png')\n",
    "#plt.clf()\n",
    "\n",
    "\n",
    "\n",
    "print(image.shape, filter.shape)\n",
    "convolved = scipy.signal.convolve2d(image, filter)\n",
    "\n",
    "print(convolved.shape)\n",
    "print(image.shape)\n",
    "\n",
    "\n",
    "plt.imshow(convolved, vmin = -20, vmax = 10)\n",
    "plt.savefig('convolution/' + flight + decimation + 'convolved.png')\n",
    "plt.clf()\n",
    "\n",
    "#plt.hist(convolved.flatten(), bins=100)\n",
    "#plt.ylim(0, 400)\n",
    "#plt.savefig('convolution/' + flight + decimation + \"convolution_result.png\")\n",
    "#plt.clf()\n",
    "\n",
    "\n",
    "#plt.figure(figsize=(40, 40))\n",
    "#plt.imshow(convolved < -5)\n",
    "#plt.savefig('convolution/' + flight + decimation + 'detected.png')\n",
    "#plt.clf()"
   ]
  },
  {
   "cell_type": "code",
   "execution_count": 41,
   "id": "0df5e428",
   "metadata": {},
   "outputs": [
    {
     "data": {
      "text/plain": [
       "(array([4.0000e+00, 2.0000e+00, 1.0000e+00, 1.0000e+00, 1.0000e+00,\n",
       "        3.0000e+00, 4.0000e+00, 9.0000e+00, 6.0000e+00, 2.1000e+01,\n",
       "        2.9000e+01, 4.2000e+01, 6.6000e+01, 9.3000e+01, 1.5200e+02,\n",
       "        2.0100e+02, 2.5800e+02, 4.2800e+02, 6.6600e+02, 1.0980e+03,\n",
       "        2.1320e+03, 6.1420e+03, 8.1865e+04, 1.0260e+04, 1.5660e+03,\n",
       "        7.5000e+02, 4.5700e+02, 3.3600e+02, 2.1000e+02, 1.6800e+02,\n",
       "        1.2800e+02, 9.0000e+01, 5.8000e+01, 5.6000e+01, 3.7000e+01,\n",
       "        3.4000e+01, 2.8000e+01, 1.7000e+01, 1.6000e+01, 9.0000e+00,\n",
       "        6.0000e+00, 7.0000e+00, 4.0000e+00, 5.0000e+00, 2.0000e+00,\n",
       "        1.0000e+00, 2.0000e+00, 1.0000e+00, 4.0000e+00, 4.0000e+00]),\n",
       " array([-154.71466667, -147.89848444, -141.08230222, -134.26612   ,\n",
       "        -127.44993778, -120.63375556, -113.81757333, -107.00139111,\n",
       "        -100.18520889,  -93.36902667,  -86.55284444,  -79.73666222,\n",
       "         -72.92048   ,  -66.10429778,  -59.28811556,  -52.47193333,\n",
       "         -45.65575111,  -38.83956889,  -32.02338667,  -25.20720444,\n",
       "         -18.39102222,  -11.57484   ,   -4.75865778,    2.05752444,\n",
       "           8.87370667,   15.68988889,   22.50607111,   29.32225333,\n",
       "          36.13843556,   42.95461778,   49.7708    ,   56.58698222,\n",
       "          63.40316444,   70.21934667,   77.03552889,   83.85171111,\n",
       "          90.66789333,   97.48407556,  104.30025778,  111.11644   ,\n",
       "         117.93262222,  124.74880444,  131.56498667,  138.38116889,\n",
       "         145.19735111,  152.01353333,  158.82971556,  165.64589778,\n",
       "         172.46208   ,  179.27826222,  186.09444444]),\n",
       " <BarContainer object of 50 artists>)"
      ]
     },
     "execution_count": 41,
     "metadata": {},
     "output_type": "execute_result"
    },
    {
     "data": {
      "image/png": "[encoded data removed]",
      "text/plain": [
       "<Figure size 640x480 with 1 Axes>"
      ]
     },
     "metadata": {},
     "output_type": "display_data"
    }
   ],
   "source": [
    "plt.hist(convolved.flatten(), bins = 50)"
   ]
  },
  {
   "cell_type": "code",
   "execution_count": null,
   "id": "184b62b7-8659-4916-93d7-714c78f7452c",
   "metadata": {},
   "outputs": [],
   "source": []
  }
 ],
 "metadata": {
  "kernelspec": {
   "display_name": "Python 3 (ipykernel)",
   "language": "python",
   "name": "python3"
  },
  "language_info": {
   "codemirror_mode": {
    "name": "ipython",
    "version": 3
   },
   "file_extension": ".py",
   "mimetype": "text/x-python",
   "name": "python",
   "nbconvert_exporter": "python",
   "pygments_lexer": "ipython3",
   "version": "3.13.0"
  }
 },
 "nbformat": 4,
 "nbformat_minor": 5
}
