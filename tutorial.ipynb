{
 "cells": [
  {
   "cell_type": "markdown",
   "id": "c5df09e4",
   "metadata": {},
   "source": [
    "This is a jupyter notebook: they suck for writing long-term robust code, but they're perfect for exploratory analysis and simple visualizations. Also for learning the ropes with python.\n",
    "\n",
    "You can write code in the \"code\" blocks and execute them with SHIFT+ENTER\n",
    "\n",
    "# Reminder: python basics"
   ]
  },
  {
   "cell_type": "code",
   "execution_count": 6,
   "id": "7d2e1882",
   "metadata": {},
   "outputs": [],
   "source": [
    "# variable assignment\n",
    "height = \"height (cm)\"\n",
    "age = \"age (years)\"\n",
    "sex = \"yes please\" # jk\n",
    "\n",
    "sex = \"sex\""
   ]
  },
  {
   "cell_type": "code",
   "execution_count": 7,
   "id": "1351a1d8",
   "metadata": {},
   "outputs": [
    {
     "name": "stdout",
     "output_type": "stream",
     "text": [
      "banana 0\n",
      "banana 1\n",
      "banana 2\n",
      "banana 3\n",
      "banana 4\n",
      "banana 5\n",
      "banana 6\n",
      "banana 7\n",
      "banana 8\n",
      "banana 9\n",
      "banana 10\n",
      "banana 11\n"
     ]
    }
   ],
   "source": [
    "# defining a function\n",
    "def print_all_bananas(number):\n",
    "    for i in range(number):\n",
    "        print(\"banana\", i)\n",
    "        \n",
    "#calling a function\n",
    "print_all_bananas(12)"
   ]
  },
  {
   "cell_type": "code",
   "execution_count": 5,
   "id": "1bcfa0af",
   "metadata": {},
   "outputs": [
    {
     "name": "stdout",
     "output_type": "stream",
     "text": [
      "Do this\n",
      "False\n",
      "This number is even\n"
     ]
    }
   ],
   "source": [
    "# conditions\n",
    "if True:\n",
    "    print(\"Do this\")\n",
    "if False:\n",
    "    print(\"do this other thing\")\n",
    "    \n",
    "def is_even(num):\n",
    "    return (num % 2) == 0 # % is modulo operator (remainder after division), == compares two things\n",
    "\n",
    "print(is_even(1))\n",
    "\n",
    "if is_even(2):\n",
    "    print(\"This number is even\")"
   ]
  },
  {
   "cell_type": "markdown",
   "id": "6bed9b8a",
   "metadata": {},
   "source": [
    "In jupyter notebooks you can use special commands prefixed with !\n",
    "\n",
    "The most important of these is pip : the python package installer.\n",
    "Let's install a few handy packages.\n",
    "\n",
    "Documentation:\n",
    "https://numpy.org/doc/\n",
    "https://pandas.pydata.org/docs/\n",
    "https://matplotlib.org/stable/index.html\n",
    "https://docs.scipy.org/doc/scipy/\n",
    "\n",
    "These packages are essential for scientific computing and data analysis: they let you operate efficiently on large collections of data (numpy), plot data (matplotlib), organize data in spreadsheet-like tables (pandas) and do all sorts of stuff like statistical hypothesis tests, regression, classification without having to create a single algorithm (scipy)."
   ]
  },
  {
   "cell_type": "code",
   "execution_count": 11,
   "id": "a9857123",
   "metadata": {},
   "outputs": [
    {
     "name": "stdout",
     "output_type": "stream",
     "text": [
      "Requirement already satisfied: matplotlib in c:\\users\\mkoopman\\appdata\\local\\programs\\python\\python311\\lib\\site-packages (3.7.1)\n",
      "Requirement already satisfied: numpy in c:\\users\\mkoopman\\appdata\\local\\programs\\python\\python311\\lib\\site-packages (1.24.2)\n",
      "Requirement already satisfied: scipy in c:\\users\\mkoopman\\appdata\\local\\programs\\python\\python311\\lib\\site-packages (1.10.1)\n",
      "Requirement already satisfied: pandas in c:\\users\\mkoopman\\appdata\\local\\programs\\python\\python311\\lib\\site-packages (2.0.0)\n",
      "Requirement already satisfied: contourpy>=1.0.1 in c:\\users\\mkoopman\\appdata\\local\\programs\\python\\python311\\lib\\site-packages (from matplotlib) (1.0.7)\n",
      "Requirement already satisfied: cycler>=0.10 in c:\\users\\mkoopman\\appdata\\local\\programs\\python\\python311\\lib\\site-packages (from matplotlib) (0.11.0)\n",
      "Requirement already satisfied: fonttools>=4.22.0 in c:\\users\\mkoopman\\appdata\\local\\programs\\python\\python311\\lib\\site-packages (from matplotlib) (4.39.3)\n",
      "Requirement already satisfied: kiwisolver>=1.0.1 in c:\\users\\mkoopman\\appdata\\local\\programs\\python\\python311\\lib\\site-packages (from matplotlib) (1.4.4)\n",
      "Requirement already satisfied: packaging>=20.0 in c:\\users\\mkoopman\\appdata\\local\\programs\\python\\python311\\lib\\site-packages (from matplotlib) (23.0)\n",
      "Requirement already satisfied: pillow>=6.2.0 in c:\\users\\mkoopman\\appdata\\local\\programs\\python\\python311\\lib\\site-packages (from matplotlib) (9.5.0)\n",
      "Requirement already satisfied: pyparsing>=2.3.1 in c:\\users\\mkoopman\\appdata\\local\\programs\\python\\python311\\lib\\site-packages (from matplotlib) (3.0.9)\n",
      "Requirement already satisfied: python-dateutil>=2.7 in c:\\users\\mkoopman\\appdata\\local\\programs\\python\\python311\\lib\\site-packages (from matplotlib) (2.8.2)\n",
      "Requirement already satisfied: pytz>=2020.1 in c:\\users\\mkoopman\\appdata\\local\\programs\\python\\python311\\lib\\site-packages (from pandas) (2023.3)\n",
      "Requirement already satisfied: tzdata>=2022.1 in c:\\users\\mkoopman\\appdata\\local\\programs\\python\\python311\\lib\\site-packages (from pandas) (2023.3)\n",
      "Requirement already satisfied: six>=1.5 in c:\\users\\mkoopman\\appdata\\local\\programs\\python\\python311\\lib\\site-packages (from python-dateutil>=2.7->matplotlib) (1.16.0)\n"
     ]
    }
   ],
   "source": [
    "!pip install matplotlib numpy scipy pandas "
   ]
  },
  {
   "cell_type": "markdown",
   "id": "ea452552",
   "metadata": {},
   "source": [
    "# table operations: using pandas"
   ]
  },
  {
   "cell_type": "code",
   "execution_count": 15,
   "id": "d2ceef46",
   "metadata": {},
   "outputs": [
    {
     "data": {
      "text/html": [
       "<div>\n",
       "<style scoped>\n",
       "    .dataframe tbody tr th:only-of-type {\n",
       "        vertical-align: middle;\n",
       "    }\n",
       "\n",
       "    .dataframe tbody tr th {\n",
       "        vertical-align: top;\n",
       "    }\n",
       "\n",
       "    .dataframe thead th {\n",
       "        text-align: right;\n",
       "    }\n",
       "</style>\n",
       "<table border=\"1\" class=\"dataframe\">\n",
       "  <thead>\n",
       "    <tr style=\"text-align: right;\">\n",
       "      <th></th>\n",
       "      <th>person</th>\n",
       "      <th>favorite person</th>\n",
       "      <th>power level</th>\n",
       "    </tr>\n",
       "  </thead>\n",
       "  <tbody>\n",
       "    <tr>\n",
       "      <th>0</th>\n",
       "      <td>me</td>\n",
       "      <td>you</td>\n",
       "      <td>9001.0</td>\n",
       "    </tr>\n",
       "    <tr>\n",
       "      <th>1</th>\n",
       "      <td>you</td>\n",
       "      <td>me</td>\n",
       "      <td>8999.0</td>\n",
       "    </tr>\n",
       "    <tr>\n",
       "      <th>2</th>\n",
       "      <td>them</td>\n",
       "      <td>them</td>\n",
       "      <td>0.4</td>\n",
       "    </tr>\n",
       "  </tbody>\n",
       "</table>\n",
       "</div>"
      ],
      "text/plain": [
       "  person favorite person  power level\n",
       "0     me             you       9001.0\n",
       "1    you              me       8999.0\n",
       "2   them            them          0.4"
      ]
     },
     "execution_count": 15,
     "metadata": {},
     "output_type": "execute_result"
    }
   ],
   "source": [
    "import pandas as pd\n",
    "a_table = pd.DataFrame({\"person\": [\"me\", \"you\", \"them\"],\n",
    "                        \"favorite person\": [\"you\", \"me\", \"them\"],\n",
    "                        \"power level\": [9001,  8999, 0.4]})\n",
    "a_table"
   ]
  },
  {
   "cell_type": "code",
   "execution_count": 13,
   "id": "dc7a7d6f",
   "metadata": {},
   "outputs": [
    {
     "name": "stdout",
     "output_type": "stream",
     "text": [
      "0      me\n",
      "1     you\n",
      "2    them\n",
      "Name: person, dtype: object\n",
      "index RangeIndex(start=0, stop=3, step=1)\n"
     ]
    },
    {
     "data": {
      "text/html": [
       "<div>\n",
       "<style scoped>\n",
       "    .dataframe tbody tr th:only-of-type {\n",
       "        vertical-align: middle;\n",
       "    }\n",
       "\n",
       "    .dataframe tbody tr th {\n",
       "        vertical-align: top;\n",
       "    }\n",
       "\n",
       "    .dataframe thead th {\n",
       "        text-align: right;\n",
       "    }\n",
       "</style>\n",
       "<table border=\"1\" class=\"dataframe\">\n",
       "  <thead>\n",
       "    <tr style=\"text-align: right;\">\n",
       "      <th></th>\n",
       "      <th>favorite person</th>\n",
       "    </tr>\n",
       "  </thead>\n",
       "  <tbody>\n",
       "    <tr>\n",
       "      <th>1</th>\n",
       "      <td>me</td>\n",
       "    </tr>\n",
       "    <tr>\n",
       "      <th>2</th>\n",
       "      <td>them</td>\n",
       "    </tr>\n",
       "  </tbody>\n",
       "</table>\n",
       "</div>"
      ],
      "text/plain": [
       "  favorite person\n",
       "1              me\n",
       "2            them"
      ]
     },
     "execution_count": 13,
     "metadata": {},
     "output_type": "execute_result"
    }
   ],
   "source": [
    "# a dataframe has column labels (person, favorite person, power level)\n",
    "print(a_table['person'])\n",
    "# and row labels aka the index\n",
    "print(\"index\", a_table.index)\n",
    "# use .loc to index the table\n",
    "a_table.loc[[1, 2], ['favorite person']]"
   ]
  },
  {
   "cell_type": "code",
   "execution_count": 16,
   "id": "d4816167",
   "metadata": {},
   "outputs": [
    {
     "data": {
      "text/html": [
       "<div>\n",
       "<style scoped>\n",
       "    .dataframe tbody tr th:only-of-type {\n",
       "        vertical-align: middle;\n",
       "    }\n",
       "\n",
       "    .dataframe tbody tr th {\n",
       "        vertical-align: top;\n",
       "    }\n",
       "\n",
       "    .dataframe thead th {\n",
       "        text-align: right;\n",
       "    }\n",
       "</style>\n",
       "<table border=\"1\" class=\"dataframe\">\n",
       "  <thead>\n",
       "    <tr style=\"text-align: right;\">\n",
       "      <th></th>\n",
       "      <th>favorite person</th>\n",
       "      <th>power level</th>\n",
       "    </tr>\n",
       "    <tr>\n",
       "      <th>person</th>\n",
       "      <th></th>\n",
       "      <th></th>\n",
       "    </tr>\n",
       "  </thead>\n",
       "  <tbody>\n",
       "    <tr>\n",
       "      <th>me</th>\n",
       "      <td>you</td>\n",
       "      <td>8999.0</td>\n",
       "    </tr>\n",
       "    <tr>\n",
       "      <th>you</th>\n",
       "      <td>me</td>\n",
       "      <td>9001.0</td>\n",
       "    </tr>\n",
       "    <tr>\n",
       "      <th>them</th>\n",
       "      <td>them</td>\n",
       "      <td>0.4</td>\n",
       "    </tr>\n",
       "  </tbody>\n",
       "</table>\n",
       "</div>"
      ],
      "text/plain": [
       "       favorite person  power level\n",
       "person                             \n",
       "me                 you       8999.0\n",
       "you                 me       9001.0\n",
       "them              them          0.4"
      ]
     },
     "execution_count": 16,
     "metadata": {},
     "output_type": "execute_result"
    }
   ],
   "source": [
    "# you can change the row labels to a column...\n",
    "indexed_by_person = a_table.set_index('person') # this creates a new dataframe!\n",
    "indexed_by_person"
   ]
  },
  {
   "cell_type": "code",
   "execution_count": 17,
   "id": "3e8adc62",
   "metadata": {},
   "outputs": [
    {
     "data": {
      "text/html": [
       "<div>\n",
       "<style scoped>\n",
       "    .dataframe tbody tr th:only-of-type {\n",
       "        vertical-align: middle;\n",
       "    }\n",
       "\n",
       "    .dataframe tbody tr th {\n",
       "        vertical-align: top;\n",
       "    }\n",
       "\n",
       "    .dataframe thead th {\n",
       "        text-align: right;\n",
       "    }\n",
       "</style>\n",
       "<table border=\"1\" class=\"dataframe\">\n",
       "  <thead>\n",
       "    <tr style=\"text-align: right;\">\n",
       "      <th></th>\n",
       "      <th>person</th>\n",
       "      <th>favorite person</th>\n",
       "      <th>power level</th>\n",
       "    </tr>\n",
       "  </thead>\n",
       "  <tbody>\n",
       "    <tr>\n",
       "      <th>0</th>\n",
       "      <td>me</td>\n",
       "      <td>you</td>\n",
       "      <td>8999.0</td>\n",
       "    </tr>\n",
       "    <tr>\n",
       "      <th>1</th>\n",
       "      <td>you</td>\n",
       "      <td>me</td>\n",
       "      <td>9001.0</td>\n",
       "    </tr>\n",
       "    <tr>\n",
       "      <th>2</th>\n",
       "      <td>them</td>\n",
       "      <td>them</td>\n",
       "      <td>0.4</td>\n",
       "    </tr>\n",
       "  </tbody>\n",
       "</table>\n",
       "</div>"
      ],
      "text/plain": [
       "  person favorite person  power level\n",
       "0     me             you       8999.0\n",
       "1    you              me       9001.0\n",
       "2   them            them          0.4"
      ]
     },
     "execution_count": 17,
     "metadata": {},
     "output_type": "execute_result"
    }
   ],
   "source": [
    "# the old one is unchanged! This goes for almost all pandas operations\n",
    "a_table"
   ]
  },
  {
   "cell_type": "code",
   "execution_count": 26,
   "id": "464c8798",
   "metadata": {},
   "outputs": [
    {
     "data": {
      "text/html": [
       "<div>\n",
       "<style scoped>\n",
       "    .dataframe tbody tr th:only-of-type {\n",
       "        vertical-align: middle;\n",
       "    }\n",
       "\n",
       "    .dataframe tbody tr th {\n",
       "        vertical-align: top;\n",
       "    }\n",
       "\n",
       "    .dataframe thead th {\n",
       "        text-align: right;\n",
       "    }\n",
       "</style>\n",
       "<table border=\"1\" class=\"dataframe\">\n",
       "  <thead>\n",
       "    <tr style=\"text-align: right;\">\n",
       "      <th></th>\n",
       "      <th>a</th>\n",
       "      <th>c</th>\n",
       "      <th>b</th>\n",
       "    </tr>\n",
       "  </thead>\n",
       "  <tbody>\n",
       "    <tr>\n",
       "      <th>0</th>\n",
       "      <td>1</td>\n",
       "      <td>1</td>\n",
       "      <td>1</td>\n",
       "    </tr>\n",
       "    <tr>\n",
       "      <th>1</th>\n",
       "      <td>2</td>\n",
       "      <td>2</td>\n",
       "      <td>2</td>\n",
       "    </tr>\n",
       "    <tr>\n",
       "      <th>2</th>\n",
       "      <td>3</td>\n",
       "      <td>1</td>\n",
       "      <td>3</td>\n",
       "    </tr>\n",
       "    <tr>\n",
       "      <th>3</th>\n",
       "      <td>4</td>\n",
       "      <td>2</td>\n",
       "      <td>4</td>\n",
       "    </tr>\n",
       "    <tr>\n",
       "      <th>4</th>\n",
       "      <td>1</td>\n",
       "      <td>1</td>\n",
       "      <td>5</td>\n",
       "    </tr>\n",
       "    <tr>\n",
       "      <th>5</th>\n",
       "      <td>2</td>\n",
       "      <td>2</td>\n",
       "      <td>6</td>\n",
       "    </tr>\n",
       "    <tr>\n",
       "      <th>6</th>\n",
       "      <td>1</td>\n",
       "      <td>1</td>\n",
       "      <td>7</td>\n",
       "    </tr>\n",
       "    <tr>\n",
       "      <th>7</th>\n",
       "      <td>2</td>\n",
       "      <td>2</td>\n",
       "      <td>8</td>\n",
       "    </tr>\n",
       "    <tr>\n",
       "      <th>8</th>\n",
       "      <td>3</td>\n",
       "      <td>1</td>\n",
       "      <td>9</td>\n",
       "    </tr>\n",
       "    <tr>\n",
       "      <th>9</th>\n",
       "      <td>1</td>\n",
       "      <td>2</td>\n",
       "      <td>10</td>\n",
       "    </tr>\n",
       "    <tr>\n",
       "      <th>10</th>\n",
       "      <td>4</td>\n",
       "      <td>1</td>\n",
       "      <td>11</td>\n",
       "    </tr>\n",
       "  </tbody>\n",
       "</table>\n",
       "</div>"
      ],
      "text/plain": [
       "    a  c   b\n",
       "0   1  1   1\n",
       "1   2  2   2\n",
       "2   3  1   3\n",
       "3   4  2   4\n",
       "4   1  1   5\n",
       "5   2  2   6\n",
       "6   1  1   7\n",
       "7   2  2   8\n",
       "8   3  1   9\n",
       "9   1  2  10\n",
       "10  4  1  11"
      ]
     },
     "execution_count": 26,
     "metadata": {},
     "output_type": "execute_result"
    }
   ],
   "source": [
    "biggerdata = pd.DataFrame({'a': [1, 2, 3, 4, 1, 2, 1, 2, 3, 1, 4], \n",
    "                           'c': [1, 2, 1, 2, 1, 2, 1, 2, 1, 2, 1],\n",
    "                           'b': [1, 2, 3, 4, 5, 6, 7, 8, 9, 10, 11]})\n",
    "biggerdata"
   ]
  },
  {
   "cell_type": "code",
   "execution_count": 34,
   "id": "3ca73751",
   "metadata": {},
   "outputs": [
    {
     "name": "stdout",
     "output_type": "stream",
     "text": [
      "a= 1\n",
      "   a  c   b\n",
      "0  1  1   1\n",
      "4  1  1   5\n",
      "6  1  1   7\n",
      "9  1  2  10\n",
      "\n",
      "\n",
      "a= 2\n",
      "   a  c  b\n",
      "1  2  2  2\n",
      "5  2  2  6\n",
      "7  2  2  8\n",
      "\n",
      "\n",
      "a= 3\n",
      "   a  c  b\n",
      "2  3  1  3\n",
      "8  3  1  9\n",
      "\n",
      "\n",
      "a= 4\n",
      "    a  c   b\n",
      "3   4  2   4\n",
      "10  4  1  11\n",
      "\n",
      "\n"
     ]
    },
    {
     "data": {
      "text/html": [
       "<div>\n",
       "<style scoped>\n",
       "    .dataframe tbody tr th:only-of-type {\n",
       "        vertical-align: middle;\n",
       "    }\n",
       "\n",
       "    .dataframe tbody tr th {\n",
       "        vertical-align: top;\n",
       "    }\n",
       "\n",
       "    .dataframe thead th {\n",
       "        text-align: right;\n",
       "    }\n",
       "</style>\n",
       "<table border=\"1\" class=\"dataframe\">\n",
       "  <thead>\n",
       "    <tr style=\"text-align: right;\">\n",
       "      <th></th>\n",
       "      <th></th>\n",
       "      <th>b</th>\n",
       "    </tr>\n",
       "    <tr>\n",
       "      <th>a</th>\n",
       "      <th>c</th>\n",
       "      <th></th>\n",
       "    </tr>\n",
       "  </thead>\n",
       "  <tbody>\n",
       "    <tr>\n",
       "      <th rowspan=\"2\" valign=\"top\">1</th>\n",
       "      <th>1</th>\n",
       "      <td>4.333333</td>\n",
       "    </tr>\n",
       "    <tr>\n",
       "      <th>2</th>\n",
       "      <td>10.000000</td>\n",
       "    </tr>\n",
       "    <tr>\n",
       "      <th>2</th>\n",
       "      <th>2</th>\n",
       "      <td>5.333333</td>\n",
       "    </tr>\n",
       "    <tr>\n",
       "      <th>3</th>\n",
       "      <th>1</th>\n",
       "      <td>6.000000</td>\n",
       "    </tr>\n",
       "    <tr>\n",
       "      <th rowspan=\"2\" valign=\"top\">4</th>\n",
       "      <th>1</th>\n",
       "      <td>11.000000</td>\n",
       "    </tr>\n",
       "    <tr>\n",
       "      <th>2</th>\n",
       "      <td>4.000000</td>\n",
       "    </tr>\n",
       "  </tbody>\n",
       "</table>\n",
       "</div>"
      ],
      "text/plain": [
       "             b\n",
       "a c           \n",
       "1 1   4.333333\n",
       "  2  10.000000\n",
       "2 2   5.333333\n",
       "3 1   6.000000\n",
       "4 1  11.000000\n",
       "  2   4.000000"
      ]
     },
     "execution_count": 34,
     "metadata": {},
     "output_type": "execute_result"
    }
   ],
   "source": [
    "# A little more advanced but 90% of the reason pandas is so powerful:\n",
    "for a, data in biggerdata.groupby('a'):\n",
    "    print('a=', a)\n",
    "    print(data)\n",
    "    print(\"\\n\") # newline\n",
    "biggerdata.groupby(['a', 'c']).mean()"
   ]
  },
  {
   "cell_type": "markdown",
   "id": "574ebaa9",
   "metadata": {},
   "source": [
    "# data visualization"
   ]
  },
  {
   "cell_type": "code",
   "execution_count": 30,
   "id": "21907120",
   "metadata": {},
   "outputs": [
    {
     "data": {
      "image/png": "[encoded data removed]",
      "text/plain": [
       "<Figure size 640x480 with 1 Axes>"
      ]
     },
     "metadata": {},
     "output_type": "display_data"
    }
   ],
   "source": [
    "import matplotlib.pyplot as plt\n",
    "plt.plot([1, 3, 4, 8, 16, 32], label='thing1') # plot one line\n",
    "plt.plot([1, -1, -3, -4, -6], label='thing2') # plot another line\n",
    "plt.legend() # show the labls and associated color\n",
    "plt.xlabel('num')\n",
    "plt.ylabel('value')\n",
    "plt.title(\"Thing 1 and Thing 2\")\n",
    "plt.show()"
   ]
  },
  {
   "cell_type": "code",
   "execution_count": 21,
   "id": "9148d439",
   "metadata": {},
   "outputs": [
    {
     "data": {
      "text/plain": [
       "<BarContainer object of 3 artists>"
      ]
     },
     "execution_count": 21,
     "metadata": {},
     "output_type": "execute_result"
    },
    {
     "data": {
      "image/png": "[encoded data removed]",
      "text/plain": [
       "<Figure size 640x480 with 1 Axes>"
      ]
     },
     "metadata": {},
     "output_type": "display_data"
    }
   ],
   "source": [
    "plt.bar(a_table['person'], a_table['power level'])"
   ]
  },
  {
   "cell_type": "code",
   "execution_count": 28,
   "id": "20bf4539",
   "metadata": {},
   "outputs": [
    {
     "data": {
      "text/plain": [
       "(array([0.00034655, 0.00201001, 0.00540622, 0.01400073, 0.01739694,\n",
       "        0.01718901, 0.00942623, 0.00270311, 0.00062379, 0.00020793]),\n",
       " array([ 32.52945715,  46.9572813 ,  61.38510544,  75.81292958,\n",
       "         90.24075373, 104.66857787, 119.09640201, 133.52422616,\n",
       "        147.9520503 , 162.37987444, 176.80769859]),\n",
       " <BarContainer object of 10 artists>)"
      ]
     },
     "execution_count": 28,
     "metadata": {},
     "output_type": "execute_result"
    },
    {
     "data": {
      "image/png": "[encoded data removed]",
      "text/plain": [
       "<Figure size 640x480 with 1 Axes>"
      ]
     },
     "metadata": {},
     "output_type": "display_data"
    }
   ],
   "source": [
    "import numpy as np\n",
    "samples = np.random.normal(100, 20, size=1000) # mean and standard deviation, 1000 samples\n",
    "plt.hist(samples, density=True)  # a histogram\n"
   ]
  },
  {
   "cell_type": "markdown",
   "id": "fe40b5cb",
   "metadata": {},
   "source": [
    "# the challenge:\n",
    "\n",
    "Alongside this notebook I've sent a csv file. First, use the pandas.read_csv function to load the table.\n",
    "Can you figure out what the relatonships between age, sex and height are in this dataset? \n",
    "How are these values distributed? "
   ]
  },
  {
   "cell_type": "code",
   "execution_count": 30,
   "id": "0c284aa4",
   "metadata": {},
   "outputs": [
    {
     "data": {
      "image/png": "[encoded data removed]",
      "text/plain": [
       "<Figure size 640x480 with 1 Axes>"
      ]
     },
     "metadata": {},
     "output_type": "display_data"
    },
    {
     "data": {
      "text/html": [
       "<div>\n",
       "<style scoped>\n",
       "    .dataframe tbody tr th:only-of-type {\n",
       "        vertical-align: middle;\n",
       "    }\n",
       "\n",
       "    .dataframe tbody tr th {\n",
       "        vertical-align: top;\n",
       "    }\n",
       "\n",
       "    .dataframe thead th {\n",
       "        text-align: right;\n",
       "    }\n",
       "</style>\n",
       "<table border=\"1\" class=\"dataframe\">\n",
       "  <thead>\n",
       "    <tr style=\"text-align: right;\">\n",
       "      <th></th>\n",
       "      <th>sex</th>\n",
       "      <th>age (years)</th>\n",
       "      <th>height (cm)</th>\n",
       "    </tr>\n",
       "  </thead>\n",
       "  <tbody>\n",
       "    <tr>\n",
       "      <th>0</th>\n",
       "      <td>male</td>\n",
       "      <td>13</td>\n",
       "      <td>139.629531</td>\n",
       "    </tr>\n",
       "    <tr>\n",
       "      <th>1</th>\n",
       "      <td>male</td>\n",
       "      <td>14</td>\n",
       "      <td>211.515427</td>\n",
       "    </tr>\n",
       "    <tr>\n",
       "      <th>2</th>\n",
       "      <td>male</td>\n",
       "      <td>18</td>\n",
       "      <td>162.593217</td>\n",
       "    </tr>\n",
       "    <tr>\n",
       "      <th>3</th>\n",
       "      <td>male</td>\n",
       "      <td>15</td>\n",
       "      <td>194.224002</td>\n",
       "    </tr>\n",
       "    <tr>\n",
       "      <th>4</th>\n",
       "      <td>male</td>\n",
       "      <td>19</td>\n",
       "      <td>238.615988</td>\n",
       "    </tr>\n",
       "    <tr>\n",
       "      <th>...</th>\n",
       "      <td>...</td>\n",
       "      <td>...</td>\n",
       "      <td>...</td>\n",
       "    </tr>\n",
       "    <tr>\n",
       "      <th>158679</th>\n",
       "      <td>female</td>\n",
       "      <td>9</td>\n",
       "      <td>158.860493</td>\n",
       "    </tr>\n",
       "    <tr>\n",
       "      <th>158680</th>\n",
       "      <td>female</td>\n",
       "      <td>14</td>\n",
       "      <td>295.785505</td>\n",
       "    </tr>\n",
       "    <tr>\n",
       "      <th>158681</th>\n",
       "      <td>female</td>\n",
       "      <td>8</td>\n",
       "      <td>174.363708</td>\n",
       "    </tr>\n",
       "    <tr>\n",
       "      <th>158682</th>\n",
       "      <td>female</td>\n",
       "      <td>9</td>\n",
       "      <td>107.936546</td>\n",
       "    </tr>\n",
       "    <tr>\n",
       "      <th>158683</th>\n",
       "      <td>female</td>\n",
       "      <td>15</td>\n",
       "      <td>332.775432</td>\n",
       "    </tr>\n",
       "  </tbody>\n",
       "</table>\n",
       "<p>158684 rows × 3 columns</p>\n",
       "</div>"
      ],
      "text/plain": [
       "           sex  age (years)  height (cm)\n",
       "0         male           13   139.629531\n",
       "1         male           14   211.515427\n",
       "2         male           18   162.593217\n",
       "3         male           15   194.224002\n",
       "4         male           19   238.615988\n",
       "...        ...          ...          ...\n",
       "158679  female            9   158.860493\n",
       "158680  female           14   295.785505\n",
       "158681  female            8   174.363708\n",
       "158682  female            9   107.936546\n",
       "158683  female           15   332.775432\n",
       "\n",
       "[158684 rows x 3 columns]"
      ]
     },
     "execution_count": 30,
     "metadata": {},
     "output_type": "execute_result"
    }
   ],
   "source": [
    "import pandas as pd\n",
    "data = pd.read_csv(\"data.csv\")\n",
    "\n",
    "\n",
    "\n",
    "import matplotlib.pyplot as plt\n",
    "plt.scatter(data['age (years)'], data['height (cm)'], label='men') # plot one line\n",
    "#plt.plot(['age (years)', 'height (cm)'], label='women') # plot another line\n",
    "plt.legend() # show the labls and associated color\n",
    "plt.xlabel('age')\n",
    "plt.ylabel('height')\n",
    "plt.title(\"relationship between age and height\")\n",
    "plt.show()\n",
    "data"
   ]
  },
  {
   "cell_type": "code",
   "execution_count": 31,
   "id": "ef6bc1c8",
   "metadata": {},
   "outputs": [
    {
     "data": {
      "text/html": [
       "<div>\n",
       "<style scoped>\n",
       "    .dataframe tbody tr th:only-of-type {\n",
       "        vertical-align: middle;\n",
       "    }\n",
       "\n",
       "    .dataframe tbody tr th {\n",
       "        vertical-align: top;\n",
       "    }\n",
       "\n",
       "    .dataframe thead th {\n",
       "        text-align: right;\n",
       "    }\n",
       "</style>\n",
       "<table border=\"1\" class=\"dataframe\">\n",
       "  <thead>\n",
       "    <tr style=\"text-align: right;\">\n",
       "      <th></th>\n",
       "      <th>sex</th>\n",
       "      <th>age (years)</th>\n",
       "      <th>height (cm)</th>\n",
       "    </tr>\n",
       "  </thead>\n",
       "  <tbody>\n",
       "    <tr>\n",
       "      <th>0</th>\n",
       "      <td>male</td>\n",
       "      <td>13</td>\n",
       "      <td>139.629531</td>\n",
       "    </tr>\n",
       "    <tr>\n",
       "      <th>1</th>\n",
       "      <td>male</td>\n",
       "      <td>14</td>\n",
       "      <td>211.515427</td>\n",
       "    </tr>\n",
       "    <tr>\n",
       "      <th>2</th>\n",
       "      <td>male</td>\n",
       "      <td>18</td>\n",
       "      <td>162.593217</td>\n",
       "    </tr>\n",
       "    <tr>\n",
       "      <th>3</th>\n",
       "      <td>male</td>\n",
       "      <td>15</td>\n",
       "      <td>194.224002</td>\n",
       "    </tr>\n",
       "    <tr>\n",
       "      <th>4</th>\n",
       "      <td>male</td>\n",
       "      <td>19</td>\n",
       "      <td>238.615988</td>\n",
       "    </tr>\n",
       "    <tr>\n",
       "      <th>...</th>\n",
       "      <td>...</td>\n",
       "      <td>...</td>\n",
       "      <td>...</td>\n",
       "    </tr>\n",
       "    <tr>\n",
       "      <th>158679</th>\n",
       "      <td>female</td>\n",
       "      <td>9</td>\n",
       "      <td>158.860493</td>\n",
       "    </tr>\n",
       "    <tr>\n",
       "      <th>158680</th>\n",
       "      <td>female</td>\n",
       "      <td>14</td>\n",
       "      <td>295.785505</td>\n",
       "    </tr>\n",
       "    <tr>\n",
       "      <th>158681</th>\n",
       "      <td>female</td>\n",
       "      <td>8</td>\n",
       "      <td>174.363708</td>\n",
       "    </tr>\n",
       "    <tr>\n",
       "      <th>158682</th>\n",
       "      <td>female</td>\n",
       "      <td>9</td>\n",
       "      <td>107.936546</td>\n",
       "    </tr>\n",
       "    <tr>\n",
       "      <th>158683</th>\n",
       "      <td>female</td>\n",
       "      <td>15</td>\n",
       "      <td>332.775432</td>\n",
       "    </tr>\n",
       "  </tbody>\n",
       "</table>\n",
       "<p>158684 rows × 3 columns</p>\n",
       "</div>"
      ],
      "text/plain": [
       "           sex  age (years)  height (cm)\n",
       "0         male           13   139.629531\n",
       "1         male           14   211.515427\n",
       "2         male           18   162.593217\n",
       "3         male           15   194.224002\n",
       "4         male           19   238.615988\n",
       "...        ...          ...          ...\n",
       "158679  female            9   158.860493\n",
       "158680  female           14   295.785505\n",
       "158681  female            8   174.363708\n",
       "158682  female            9   107.936546\n",
       "158683  female           15   332.775432\n",
       "\n",
       "[158684 rows x 3 columns]"
      ]
     },
     "execution_count": 31,
     "metadata": {},
     "output_type": "execute_result"
    }
   ],
   "source": [
    "data"
   ]
  },
  {
   "cell_type": "code",
   "execution_count": 32,
   "id": "67e5d294",
   "metadata": {},
   "outputs": [
    {
     "data": {
      "text/plain": [
       "0           male\n",
       "1           male\n",
       "2           male\n",
       "3           male\n",
       "4           male\n",
       "           ...  \n",
       "158679    female\n",
       "158680    female\n",
       "158681    female\n",
       "158682    female\n",
       "158683    female\n",
       "Name: sex, Length: 158684, dtype: object"
      ]
     },
     "execution_count": 32,
     "metadata": {},
     "output_type": "execute_result"
    }
   ],
   "source": [
    "data['sex']"
   ]
  },
  {
   "cell_type": "code",
   "execution_count": 34,
   "id": "1ee4111b",
   "metadata": {},
   "outputs": [
    {
     "data": {
      "text/html": [
       "<div>\n",
       "<style scoped>\n",
       "    .dataframe tbody tr th:only-of-type {\n",
       "        vertical-align: middle;\n",
       "    }\n",
       "\n",
       "    .dataframe tbody tr th {\n",
       "        vertical-align: top;\n",
       "    }\n",
       "\n",
       "    .dataframe thead th {\n",
       "        text-align: right;\n",
       "    }\n",
       "</style>\n",
       "<table border=\"1\" class=\"dataframe\">\n",
       "  <thead>\n",
       "    <tr style=\"text-align: right;\">\n",
       "      <th></th>\n",
       "      <th>age (years)</th>\n",
       "      <th>height (cm)</th>\n",
       "    </tr>\n",
       "  </thead>\n",
       "  <tbody>\n",
       "    <tr>\n",
       "      <th>0</th>\n",
       "      <td>13</td>\n",
       "      <td>139.629531</td>\n",
       "    </tr>\n",
       "    <tr>\n",
       "      <th>1</th>\n",
       "      <td>14</td>\n",
       "      <td>211.515427</td>\n",
       "    </tr>\n",
       "    <tr>\n",
       "      <th>2</th>\n",
       "      <td>18</td>\n",
       "      <td>162.593217</td>\n",
       "    </tr>\n",
       "    <tr>\n",
       "      <th>3</th>\n",
       "      <td>15</td>\n",
       "      <td>194.224002</td>\n",
       "    </tr>\n",
       "    <tr>\n",
       "      <th>4</th>\n",
       "      <td>19</td>\n",
       "      <td>238.615988</td>\n",
       "    </tr>\n",
       "    <tr>\n",
       "      <th>...</th>\n",
       "      <td>...</td>\n",
       "      <td>...</td>\n",
       "    </tr>\n",
       "    <tr>\n",
       "      <th>158679</th>\n",
       "      <td>9</td>\n",
       "      <td>158.860493</td>\n",
       "    </tr>\n",
       "    <tr>\n",
       "      <th>158680</th>\n",
       "      <td>14</td>\n",
       "      <td>295.785505</td>\n",
       "    </tr>\n",
       "    <tr>\n",
       "      <th>158681</th>\n",
       "      <td>8</td>\n",
       "      <td>174.363708</td>\n",
       "    </tr>\n",
       "    <tr>\n",
       "      <th>158682</th>\n",
       "      <td>9</td>\n",
       "      <td>107.936546</td>\n",
       "    </tr>\n",
       "    <tr>\n",
       "      <th>158683</th>\n",
       "      <td>15</td>\n",
       "      <td>332.775432</td>\n",
       "    </tr>\n",
       "  </tbody>\n",
       "</table>\n",
       "<p>158684 rows × 2 columns</p>\n",
       "</div>"
      ],
      "text/plain": [
       "        age (years)  height (cm)\n",
       "0                13   139.629531\n",
       "1                14   211.515427\n",
       "2                18   162.593217\n",
       "3                15   194.224002\n",
       "4                19   238.615988\n",
       "...             ...          ...\n",
       "158679            9   158.860493\n",
       "158680           14   295.785505\n",
       "158681            8   174.363708\n",
       "158682            9   107.936546\n",
       "158683           15   332.775432\n",
       "\n",
       "[158684 rows x 2 columns]"
      ]
     },
     "execution_count": 34,
     "metadata": {},
     "output_type": "execute_result"
    }
   ],
   "source": [
    "data[[\"age (years)\", \"height (cm)\"]]"
   ]
  },
  {
   "cell_type": "code",
   "execution_count": 36,
   "id": "4435050b",
   "metadata": {},
   "outputs": [
    {
     "data": {
      "text/plain": [
       "(array([2.6900e+02, 1.5441e+04, 5.5200e+04, 5.3511e+04, 2.5339e+04,\n",
       "        7.2900e+03, 1.4270e+03, 1.9000e+02, 1.6000e+01, 1.0000e+00]),\n",
       " array([-32.19741286,  31.51896959,  95.23535205, 158.9517345 ,\n",
       "        222.66811696, 286.38449941, 350.10088187, 413.81726433,\n",
       "        477.53364678, 541.25002924, 604.96641169]),\n",
       " <BarContainer object of 10 artists>)"
      ]
     },
     "execution_count": 36,
     "metadata": {},
     "output_type": "execute_result"
    },
    {
     "data": {
      "image/png": "[encoded data removed]",
      "text/plain": [
       "<Figure size 640x480 with 1 Axes>"
      ]
     },
     "metadata": {},
     "output_type": "display_data"
    }
   ],
   "source": [
    "plt.hist(data[\"height (cm)\"])"
   ]
  },
  {
   "cell_type": "code",
   "execution_count": 52,
   "id": "56b896c3",
   "metadata": {},
   "outputs": [
    {
     "data": {
      "text/plain": [
       "0         139.629531\n",
       "1         211.515427\n",
       "2         162.593217\n",
       "3         194.224002\n",
       "4         238.615988\n",
       "             ...    \n",
       "118680    243.164656\n",
       "118681    189.182518\n",
       "118682    118.151741\n",
       "118683    149.473742\n",
       "118684    294.708723\n",
       "Name: height (cm), Length: 118685, dtype: float64"
      ]
     },
     "execution_count": 52,
     "metadata": {},
     "output_type": "execute_result"
    }
   ],
   "source": [
    "is_male = data[\"sex\"] == 'male'\n",
    "height_male = data['height (cm)'][is_male]\n",
    "\n",
    "is_female = data[\"sex\"] == \"female\"\n",
    "height_female = data['height (cm)'][is_female]\n",
    "height_male"
   ]
  },
  {
   "cell_type": "code",
   "execution_count": 57,
   "id": "9fd4505e",
   "metadata": {},
   "outputs": [
    {
     "data": {
      "text/plain": [
       "(array([  774.,  6431., 12446., 10604.,  6000.,  2511.,   875.,   282.,\n",
       "           60.,    16.]),\n",
       " array([  0.        ,  50.19574639, 100.39149278, 150.58723916,\n",
       "        200.78298555, 250.97873194, 301.17447833, 351.37022472,\n",
       "        401.56597111, 451.76171749, 501.95746388]),\n",
       " <BarContainer object of 10 artists>)"
      ]
     },
     "execution_count": 57,
     "metadata": {},
     "output_type": "execute_result"
    },
    {
     "data": {
      "image/png": "[encoded data removed]",
      "text/plain": [
       "<Figure size 640x480 with 1 Axes>"
      ]
     },
     "metadata": {},
     "output_type": "display_data"
    }
   ],
   "source": [
    "plt.hist(height_male)\n",
    "plt.hist(height_female)\n"
   ]
  },
  {
   "cell_type": "code",
   "execution_count": 56,
   "id": "f9bd09ec",
   "metadata": {},
   "outputs": [
    {
     "ename": "KeyError",
     "evalue": "\"None of [Index([1, 2, 3, 4], dtype='int32')] are in the [columns]\"",
     "output_type": "error",
     "traceback": [
      "\u001b[1;31m---------------------------------------------------------------------------\u001b[0m",
      "\u001b[1;31mKeyError\u001b[0m                                  Traceback (most recent call last)",
      "Cell \u001b[1;32mIn[56], line 1\u001b[0m\n\u001b[1;32m----> 1\u001b[0m \u001b[43mdata\u001b[49m\u001b[43m[\u001b[49m\u001b[43m[\u001b[49m\u001b[38;5;241;43m1\u001b[39;49m\u001b[43m,\u001b[49m\u001b[43m \u001b[49m\u001b[38;5;241;43m2\u001b[39;49m\u001b[43m,\u001b[49m\u001b[43m \u001b[49m\u001b[38;5;241;43m3\u001b[39;49m\u001b[43m,\u001b[49m\u001b[43m \u001b[49m\u001b[38;5;241;43m4\u001b[39;49m\u001b[43m]\u001b[49m\u001b[43m]\u001b[49m\n",
      "File \u001b[1;32m~\\AppData\\Local\\Programs\\Python\\Python311\\Lib\\site-packages\\pandas\\core\\frame.py:3766\u001b[0m, in \u001b[0;36mDataFrame.__getitem__\u001b[1;34m(self, key)\u001b[0m\n\u001b[0;32m   3764\u001b[0m     \u001b[38;5;28;01mif\u001b[39;00m is_iterator(key):\n\u001b[0;32m   3765\u001b[0m         key \u001b[38;5;241m=\u001b[39m \u001b[38;5;28mlist\u001b[39m(key)\n\u001b[1;32m-> 3766\u001b[0m     indexer \u001b[38;5;241m=\u001b[39m \u001b[38;5;28;43mself\u001b[39;49m\u001b[38;5;241;43m.\u001b[39;49m\u001b[43mcolumns\u001b[49m\u001b[38;5;241;43m.\u001b[39;49m\u001b[43m_get_indexer_strict\u001b[49m\u001b[43m(\u001b[49m\u001b[43mkey\u001b[49m\u001b[43m,\u001b[49m\u001b[43m \u001b[49m\u001b[38;5;124;43m\"\u001b[39;49m\u001b[38;5;124;43mcolumns\u001b[39;49m\u001b[38;5;124;43m\"\u001b[39;49m\u001b[43m)\u001b[49m[\u001b[38;5;241m1\u001b[39m]\n\u001b[0;32m   3768\u001b[0m \u001b[38;5;66;03m# take() does not accept boolean indexers\u001b[39;00m\n\u001b[0;32m   3769\u001b[0m \u001b[38;5;28;01mif\u001b[39;00m \u001b[38;5;28mgetattr\u001b[39m(indexer, \u001b[38;5;124m\"\u001b[39m\u001b[38;5;124mdtype\u001b[39m\u001b[38;5;124m\"\u001b[39m, \u001b[38;5;28;01mNone\u001b[39;00m) \u001b[38;5;241m==\u001b[39m \u001b[38;5;28mbool\u001b[39m:\n",
      "File \u001b[1;32m~\\AppData\\Local\\Programs\\Python\\Python311\\Lib\\site-packages\\pandas\\core\\indexes\\base.py:5876\u001b[0m, in \u001b[0;36mIndex._get_indexer_strict\u001b[1;34m(self, key, axis_name)\u001b[0m\n\u001b[0;32m   5873\u001b[0m \u001b[38;5;28;01melse\u001b[39;00m:\n\u001b[0;32m   5874\u001b[0m     keyarr, indexer, new_indexer \u001b[38;5;241m=\u001b[39m \u001b[38;5;28mself\u001b[39m\u001b[38;5;241m.\u001b[39m_reindex_non_unique(keyarr)\n\u001b[1;32m-> 5876\u001b[0m \u001b[38;5;28;43mself\u001b[39;49m\u001b[38;5;241;43m.\u001b[39;49m\u001b[43m_raise_if_missing\u001b[49m\u001b[43m(\u001b[49m\u001b[43mkeyarr\u001b[49m\u001b[43m,\u001b[49m\u001b[43m \u001b[49m\u001b[43mindexer\u001b[49m\u001b[43m,\u001b[49m\u001b[43m \u001b[49m\u001b[43maxis_name\u001b[49m\u001b[43m)\u001b[49m\n\u001b[0;32m   5878\u001b[0m keyarr \u001b[38;5;241m=\u001b[39m \u001b[38;5;28mself\u001b[39m\u001b[38;5;241m.\u001b[39mtake(indexer)\n\u001b[0;32m   5879\u001b[0m \u001b[38;5;28;01mif\u001b[39;00m \u001b[38;5;28misinstance\u001b[39m(key, Index):\n\u001b[0;32m   5880\u001b[0m     \u001b[38;5;66;03m# GH 42790 - Preserve name from an Index\u001b[39;00m\n",
      "File \u001b[1;32m~\\AppData\\Local\\Programs\\Python\\Python311\\Lib\\site-packages\\pandas\\core\\indexes\\base.py:5935\u001b[0m, in \u001b[0;36mIndex._raise_if_missing\u001b[1;34m(self, key, indexer, axis_name)\u001b[0m\n\u001b[0;32m   5933\u001b[0m     \u001b[38;5;28;01mif\u001b[39;00m use_interval_msg:\n\u001b[0;32m   5934\u001b[0m         key \u001b[38;5;241m=\u001b[39m \u001b[38;5;28mlist\u001b[39m(key)\n\u001b[1;32m-> 5935\u001b[0m     \u001b[38;5;28;01mraise\u001b[39;00m \u001b[38;5;167;01mKeyError\u001b[39;00m(\u001b[38;5;124mf\u001b[39m\u001b[38;5;124m\"\u001b[39m\u001b[38;5;124mNone of [\u001b[39m\u001b[38;5;132;01m{\u001b[39;00mkey\u001b[38;5;132;01m}\u001b[39;00m\u001b[38;5;124m] are in the [\u001b[39m\u001b[38;5;132;01m{\u001b[39;00maxis_name\u001b[38;5;132;01m}\u001b[39;00m\u001b[38;5;124m]\u001b[39m\u001b[38;5;124m\"\u001b[39m)\n\u001b[0;32m   5937\u001b[0m not_found \u001b[38;5;241m=\u001b[39m \u001b[38;5;28mlist\u001b[39m(ensure_index(key)[missing_mask\u001b[38;5;241m.\u001b[39mnonzero()[\u001b[38;5;241m0\u001b[39m]]\u001b[38;5;241m.\u001b[39munique())\n\u001b[0;32m   5938\u001b[0m \u001b[38;5;28;01mraise\u001b[39;00m \u001b[38;5;167;01mKeyError\u001b[39;00m(\u001b[38;5;124mf\u001b[39m\u001b[38;5;124m\"\u001b[39m\u001b[38;5;132;01m{\u001b[39;00mnot_found\u001b[38;5;132;01m}\u001b[39;00m\u001b[38;5;124m not in index\u001b[39m\u001b[38;5;124m\"\u001b[39m)\n",
      "\u001b[1;31mKeyError\u001b[0m: \"None of [Index([1, 2, 3, 4], dtype='int32')] are in the [columns]\""
     ]
    }
   ],
   "source": []
  },
  {
   "cell_type": "code",
   "execution_count": null,
   "id": "54665804",
   "metadata": {},
   "outputs": [],
   "source": []
  }
 ],
 "metadata": {
  "kernelspec": {
   "display_name": "Python 3 (ipykernel)",
   "language": "python",
   "name": "python3"
  },
  "language_info": {
   "codemirror_mode": {
    "name": "ipython",
    "version": 3
   },
   "file_extension": ".py",
   "mimetype": "text/x-python",
   "name": "python",
   "nbconvert_exporter": "python",
   "pygments_lexer": "ipython3",
   "version": "3.11.1"
  }
 },
 "nbformat": 4,
 "nbformat_minor": 5
}
