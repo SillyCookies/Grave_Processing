{
 "cells": [
  {
   "cell_type": "code",
   "execution_count": 4,
   "id": "b228f0bc",
   "metadata": {},
   "outputs": [],
   "source": [
    "import laspy\n",
    "import pandas as pd\n",
    "import numpy as np\n",
    "import matplotlib.pyplot as plt\n",
    "from matplotlib import colors\n",
    "from colorspacious import cspace_converter\n",
    "import matplotlib as mpl\n",
    "import scipy \n",
    "\n",
    "from pathlib import Path\n",
    "\n",
    "base_path = Path('.')\n",
    "list(base_path.glob('T*'))\n",
    "\n",
    "file_name = \"220829GO15D\"\n",
    "#change file name according to flight being analysed\n",
    "\n",
    "base_dir = \"C:/Hobbies/programming/data/\"\n",
    "#file_path = base_dir + file_name + '/' + file_name + \"_C_A.las\"\n",
    "#use file_path below for multiple flights on one date and adjust carefully\n",
    "file_path = \"C:/Hobbies/programming/data/220829GO15D/22GOempty/\" + file_name + \"_EMPTY_C_A.las\""
   ]
  },
  {
   "cell_type": "code",
   "execution_count": null,
   "id": "a44a1dc9",
   "metadata": {},
   "outputs": [],
   "source": [
    "def difference_file_name(tag1, tag2):\n",
    "    return \"height_differences_\" + tag1 + \"_\" + tag2 + \".csv\""
   ]
  },
  {
   "cell_type": "code",
   "execution_count": null,
   "id": "971c47c2",
   "metadata": {},
   "outputs": [],
   "source": [
    "file1 = \"file_221101\"\n",
    "file2 = \"file_221128\"\n",
    "\n",
    "zdiff = pd.read_csv(difference_file_name(file1, file2))\n",
    "\n",
    "grid = zdiff.reset_index().pivot_table(columns='grid_x', index='grid_y', values='z')"
   ]
  },
  {
   "cell_type": "code",
   "execution_count": null,
   "id": "e9a9020b",
   "metadata": {},
   "outputs": [],
   "source": [
    "plt.hist(grid.values.flatten(), bins= np.linspace(0, 2, 300))\n",
    "plt.ylim(0, 400)\n",
    "plt.show()"
   ]
  },
  {
   "cell_type": "code",
   "execution_count": null,
   "id": "8bcf4c32",
   "metadata": {},
   "outputs": [],
   "source": [
    "grid.values[~np.isnan(grid.values)]"
   ]
  },
  {
   "cell_type": "code",
   "execution_count": null,
   "id": "20a00eaa",
   "metadata": {},
   "outputs": [],
   "source": [
    "plt.figure(figsize = (20,20))\n",
    "plt.imshow((grid.values > 0.8) & (grid.values < 0.9))\n"
   ]
  },
  {
   "cell_type": "code",
   "execution_count": null,
   "id": "62dffaea",
   "metadata": {},
   "outputs": [],
   "source": [
    "plt.figure(figsize = (20,20))\n",
    "plt.imshow(grid.values > 0.45)"
   ]
  },
  {
   "cell_type": "code",
   "execution_count": null,
   "id": "60895279",
   "metadata": {},
   "outputs": [],
   "source": [
    "#extract the points that constitute graves based on height changes between empty graves on burial day and 2 weeks later.\n",
    "\n",
    "grave_points = grid > 0.45\n",
    "\n",
    "#grave_points.to_csv(\"grave_points_all.csv\")"
   ]
  },
  {
   "cell_type": "code",
   "execution_count": null,
   "id": "345e5833",
   "metadata": {},
   "outputs": [],
   "source": [
    "#separate the points into individual graves and save all these tables individually\n",
    "grave_true = grave_points.melt(ignore_index = False).reset_index()\n",
    "grave_true = grave_true[(grave_true['grid_x'] > (6.2010*1e6)) & (grave_true['grid_x'] < (6.2025*1e6))]\n",
    "grave_true = grave_true[grave_true['value']]\n",
    "print(grave_true)\n",
    "#grave_trim = \n"
   ]
  },
  {
   "cell_type": "code",
   "execution_count": null,
   "id": "2418ff7f",
   "metadata": {},
   "outputs": [],
   "source": [
    "plt.hist(grave_true['grid_y']-1.0324e8, bins = np.linspace(3350, 5200, 300))\n",
    "plt.show()"
   ]
  },
  {
   "cell_type": "code",
   "execution_count": null,
   "id": "4f6705ca",
   "metadata": {},
   "outputs": [],
   "source": [
    "plt.hist(grave_true['grid_y']-1.0324e8, bins = np.linspace(3600, 3800, 300))\n",
    "plt.ylim(0,25)\n",
    "plt.show()"
   ]
  },
  {
   "cell_type": "code",
   "execution_count": null,
   "id": "09dcdf71",
   "metadata": {},
   "outputs": [],
   "source": [
    "\n",
    "graves = {}\n",
    "\n",
    "num_graves = 32\n",
    "\n",
    "bottom = 3420+1.0324e8\n",
    "top = 3460+1.0324e8\n",
    "\n",
    "for i in range(1, num_graves+1):\n",
    "    graves[f'T{i:02d}'] = grave_true[(grave_true['grid_y'] > bottom) & (grave_true['grid_y'] < top)]\n",
    "    bottom = bottom + 60\n",
    "    top = bottom + 40\n",
    "\n",
    "print(graves['T03'])\n",
    "    "
   ]
  },
  {
   "cell_type": "code",
   "execution_count": null,
   "id": "cbf7d5b4",
   "metadata": {},
   "outputs": [],
   "source": [
    "for name, value in graves.items():\n",
    "    plt.hist(value['grid_y'], label = name)\n",
    "    \n",
    "plt.legend()"
   ]
  },
  {
   "cell_type": "code",
   "execution_count": null,
   "id": "a02362dd",
   "metadata": {},
   "outputs": [],
   "source": [
    "for name, value in graves.items():\n",
    "    value = value.drop(columns = ['value'])\n",
    "    value.to_csv(name +'/grave_points.csv', index = False)"
   ]
  },
  {
   "cell_type": "code",
   "execution_count": null,
   "id": "8e32330a",
   "metadata": {},
   "outputs": [],
   "source": []
  },
  {
   "cell_type": "code",
   "execution_count": null,
   "id": "0519a9f8",
   "metadata": {},
   "outputs": [],
   "source": [
    "flight = 'file_230119'\n",
    "flight_indexed_by_grid = datasets[flight].set_index(['grid_y', 'grid_x'], drop = True)\n",
    "\n",
    "print(grave_true)\n",
    "\n",
    "for name in base_path.glob('T*'):\n",
    "    this_grave = pd.read_csv(name / \"grave_points.csv\")\n",
    "    ids = this_grave.set_index(['grid_y', 'grid_x']).index.intersection(flight_indexed_by_grid.index)\n",
    "    tomb_points = flight_indexed_by_grid.loc[ids]\n",
    "    tomb_points.to_csv(str(name) + '/' + flight + '_' + name.name + '.csv')\n"
   ]
  },
  {
   "cell_type": "code",
   "execution_count": 5,
   "id": "5e8f35d4",
   "metadata": {},
   "outputs": [
    {
     "data": {
      "text/plain": [
       "<matplotlib.legend.Legend at 0x276aff81590>"
      ]
     },
     "execution_count": 5,
     "metadata": {},
     "output_type": "execute_result"
    },
    {
     "data": {
      "image/png": "[encoded data removed]",
      "text/plain": [
       "<Figure size 640x480 with 1 Axes>"
      ]
     },
     "metadata": {},
     "output_type": "display_data"
    }
   ],
   "source": [
    "Tomb = Path('C:\\Hobbies\\programming\\T22')\n",
    "Flight_files = Tomb.glob('file_*')\n",
    "for Flight_file in Flight_files: \n",
    "    if 'file_220829' in Flight_file.name: \n",
    "        continue\n",
    "    dataset = pd.read_csv(Flight_file)\n",
    "    plt.hist(dataset['z'], label = Flight_file.name, alpha = 0.2)\n",
    "    \n",
    "    \n",
    "plt.legend()"
   ]
  },
  {
   "cell_type": "code",
   "execution_count": null,
   "id": "04e3a606",
   "metadata": {},
   "outputs": [],
   "source": []
  }
 ],
 "metadata": {
  "kernelspec": {
   "display_name": "Python 3 (ipykernel)",
   "language": "python",
   "name": "python3"
  },
  "language_info": {
   "codemirror_mode": {
    "name": "ipython",
    "version": 3
   },
   "file_extension": ".py",
   "mimetype": "text/x-python",
   "name": "python",
   "nbconvert_exporter": "python",
   "pygments_lexer": "ipython3",
   "version": "3.11.1"
  }
 },
 "nbformat": 4,
 "nbformat_minor": 5
}
